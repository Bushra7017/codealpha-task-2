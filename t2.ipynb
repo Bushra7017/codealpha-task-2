{
 "cells": [
  {
   "cell_type": "code",
   "execution_count": 2,
   "id": "187c61fb-03a8-4d8a-a04c-c0e53165cf2d",
   "metadata": {},
   "outputs": [
    {
     "name": "stdout",
     "output_type": "stream",
     "text": [
      "\n",
      "Stock Portfolio Tracker\n",
      "1. Add stock\n",
      "2. Remove stock\n",
      "3. View portfolio\n",
      "4. Exit\n"
     ]
    },
    {
     "name": "stdin",
     "output_type": "stream",
     "text": [
      "Enter your choice:  add stock\n"
     ]
    },
    {
     "name": "stdout",
     "output_type": "stream",
     "text": [
      "Invalid choice. Please try again.\n",
      "\n",
      "Stock Portfolio Tracker\n",
      "1. Add stock\n",
      "2. Remove stock\n",
      "3. View portfolio\n",
      "4. Exit\n"
     ]
    },
    {
     "name": "stdin",
     "output_type": "stream",
     "text": [
      "Enter your choice:  1\n",
      "Enter stock ticker (e.g., AAPL, TSLA):  aapl\n",
      "Enter the number of shares:  sa\n"
     ]
    },
    {
     "ename": "ValueError",
     "evalue": "invalid literal for int() with base 10: 'sa'",
     "output_type": "error",
     "traceback": [
      "\u001b[1;31m---------------------------------------------------------------------------\u001b[0m",
      "\u001b[1;31mValueError\u001b[0m                                Traceback (most recent call last)",
      "Cell \u001b[1;32mIn[2], line 80\u001b[0m\n\u001b[0;32m     78\u001b[0m \u001b[38;5;66;03m# Run the stock portfolio tracker\u001b[39;00m\n\u001b[0;32m     79\u001b[0m \u001b[38;5;28;01mif\u001b[39;00m \u001b[38;5;18m__name__\u001b[39m \u001b[38;5;241m==\u001b[39m \u001b[38;5;124m\"\u001b[39m\u001b[38;5;124m__main__\u001b[39m\u001b[38;5;124m\"\u001b[39m:\n\u001b[1;32m---> 80\u001b[0m     main()\n",
      "Cell \u001b[1;32mIn[2], line 60\u001b[0m, in \u001b[0;36mmain\u001b[1;34m()\u001b[0m\n\u001b[0;32m     58\u001b[0m \u001b[38;5;28;01mif\u001b[39;00m choice \u001b[38;5;241m==\u001b[39m \u001b[38;5;124m'\u001b[39m\u001b[38;5;124m1\u001b[39m\u001b[38;5;124m'\u001b[39m:\n\u001b[0;32m     59\u001b[0m     ticker \u001b[38;5;241m=\u001b[39m \u001b[38;5;28minput\u001b[39m(\u001b[38;5;124m\"\u001b[39m\u001b[38;5;124mEnter stock ticker (e.g., AAPL, TSLA): \u001b[39m\u001b[38;5;124m\"\u001b[39m)\u001b[38;5;241m.\u001b[39mupper()\n\u001b[1;32m---> 60\u001b[0m     shares \u001b[38;5;241m=\u001b[39m \u001b[38;5;28mint\u001b[39m(\u001b[38;5;28minput\u001b[39m(\u001b[38;5;124m\"\u001b[39m\u001b[38;5;124mEnter the number of shares: \u001b[39m\u001b[38;5;124m\"\u001b[39m))\n\u001b[0;32m     61\u001b[0m     portfolio\u001b[38;5;241m.\u001b[39madd_stock(ticker, shares)\n\u001b[0;32m     63\u001b[0m \u001b[38;5;28;01melif\u001b[39;00m choice \u001b[38;5;241m==\u001b[39m \u001b[38;5;124m'\u001b[39m\u001b[38;5;124m2\u001b[39m\u001b[38;5;124m'\u001b[39m:\n",
      "\u001b[1;31mValueError\u001b[0m: invalid literal for int() with base 10: 'sa'"
     ]
    }
   ],
   "source": [
    "import yfinance as yf\n",
    "\n",
    "\n",
    "class StockPortfolio:\n",
    "    def __init__(self):\n",
    "        self.portfolio = {}\n",
    "\n",
    "    def add_stock(self, ticker, shares):\n",
    "        if ticker in self.portfolio:\n",
    "            self.portfolio[ticker] += shares\n",
    "        else:\n",
    "            self.portfolio[ticker] = shares\n",
    "        print(f\"Added {shares} shares of {ticker} to the portfolio.\")\n",
    "\n",
    "  \n",
    "    def remove_stock(self, ticker, shares):\n",
    "        if ticker in self.portfolio and self.portfolio[ticker] >= shares:\n",
    "            self.portfolio[ticker] -= shares\n",
    "            if self.portfolio[ticker] == 0:\n",
    "                del self.portfolio[ticker]\n",
    "            print(f\"Removed {shares} shares of {ticker} from the portfolio.\")\n",
    "        else:\n",
    "            print(f\"Not enough shares to remove or stock not found in portfolio.\")\n",
    "\n",
    "    def get_stock_data(self, ticker):\n",
    "        stock = yf.Ticker(ticker)\n",
    "        return stock.history(period=\"1d\")['Close'].iloc[-1]\n",
    "\n",
    "\n",
    "    def show_portfolio(self):\n",
    "        if not self.portfolio:\n",
    "            print(\"Your portfolio is empty.\")\n",
    "            return\n",
    "\n",
    "        total_value = 0\n",
    "        print(\"\\nYour Portfolio:\")\n",
    "        for ticker, shares in self.portfolio.items():\n",
    "            price = self.get_stock_data(ticker)\n",
    "            stock_value = shares * price\n",
    "            total_value += stock_value\n",
    "            print(f\"{ticker}: {shares} shares, Current Price: ${price:.2f}, Total Value: ${stock_value:.2f}\")\n",
    "        print(f\"\\nTotal Portfolio Value: ${total_value:.2f}\")\n",
    "\n",
    "\n",
    "def main():\n",
    "    portfolio = StockPortfolio()\n",
    "    while True:\n",
    "        print(\"\\nStock Portfolio Tracker\")\n",
    "        print(\"1. Add stock\")\n",
    "        print(\"2. Remove stock\")\n",
    "        print(\"3. View portfolio\")\n",
    "        print(\"4. Exit\")\n",
    "        \n",
    "        choice = input(\"Enter your choice: \")\n",
    "\n",
    "        if choice == '1':\n",
    "            ticker = input(\"Enter stock ticker (e.g., AAPL, TSLA): \").upper()\n",
    "            shares = int(input(\"Enter the number of shares: \"))\n",
    "            portfolio.add_stock(ticker, shares)\n",
    "\n",
    "        elif choice == '2':\n",
    "            ticker = input(\"Enter stock ticker (e.g., AAPL, TSLA): \").upper()\n",
    "            shares = int(input(\"Enter the number of shares to remove: \"))\n",
    "            portfolio.remove_stock(ticker, shares)\n",
    "\n",
    "        elif choice == '3':\n",
    "            portfolio.show_portfolio()\n",
    "\n",
    "        elif choice == '4':\n",
    "            print(\"Exiting the program.\")\n",
    "            break\n",
    "\n",
    "        else:\n",
    "            print(\"Invalid choice. Please try again.\")\n",
    "\n",
    "if __name__ == \"__main__\":\n",
    "    main()\n"
   ]
  },
  {
   "cell_type": "code",
   "execution_count": null,
   "id": "9ce10589-597b-4aa0-b527-8cadb6933d6c",
   "metadata": {},
   "outputs": [],
   "source": []
  }
 ],
 "metadata": {
  "kernelspec": {
   "display_name": "Python 3 (ipykernel)",
   "language": "python",
   "name": "python3"
  },
  "language_info": {
   "codemirror_mode": {
    "name": "ipython",
    "version": 3
   },
   "file_extension": ".py",
   "mimetype": "text/x-python",
   "name": "python",
   "nbconvert_exporter": "python",
   "pygments_lexer": "ipython3",
   "version": "3.12.4"
  }
 },
 "nbformat": 4,
 "nbformat_minor": 5
}
